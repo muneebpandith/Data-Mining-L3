{
 "cells": [
  {
   "cell_type": "code",
   "execution_count": 169,
   "metadata": {},
   "outputs": [],
   "source": [
    "# Muneebs implementation of PCA on Images :D"
   ]
  },
  {
   "cell_type": "code",
   "execution_count": 170,
   "metadata": {},
   "outputs": [],
   "source": [
    "import numpy as np\n",
    "import matplotlib.pyplot as plt\n",
    "import cv2"
   ]
  },
  {
   "cell_type": "code",
   "execution_count": 171,
   "metadata": {},
   "outputs": [],
   "source": [
    "def getImageFromPath(grayscale=0):\n",
    "    imgOriginal=cv2.imread('muneeb.jpg')\n",
    "    if imgOriginal is None:\n",
    "        return\n",
    "    elif grayscale==1:\n",
    "        imgGrayscale = cv2.cvtColor(imgOriginal, cv2.COLOR_BGR2GRAY)\n",
    "        return imgGrayscale\n",
    "    else:\n",
    "        return imgOriginal\n",
    "    \n"
   ]
  },
  {
   "cell_type": "code",
   "execution_count": 172,
   "metadata": {},
   "outputs": [],
   "source": [
    "def getImageFromWebCam(grayscale=0):\n",
    "    \n",
    "    if capWebcam.isOpened() == False:               # check if VideoCapture object was associated to webcam successfully\n",
    "        print (\"error: capWebcam not accessed successfully\\n\\n\")      # if not, print error message to std out\n",
    "        os.system(\"pause\")                                          # pause until user presses a key so user can see error message\n",
    "        return\n",
    "    \n",
    "    blnFrameReadSuccessfully, imgOriginal = capWebcam.read()\n",
    "    \n",
    "    if not blnFrameReadSuccessfully or imgOriginal is None:     # if frame was not read successfully\n",
    "            print (\"error: frame not read from webcam\\n\")             # print error message to std out\n",
    "            os.system(\"pause\")                                      # pause until user presses a key so user can see error message\n",
    "            return\n",
    "    if grayscale==1:\n",
    "        imgGrayscale = cv2.cvtColor(imgOriginal, cv2.COLOR_BGR2GRAY)\n",
    "        return imgGrayscale\n",
    "    if grayscale==0:\n",
    "        return imgOriginal\n",
    "    return\n"
   ]
  },
  {
   "cell_type": "code",
   "execution_count": 173,
   "metadata": {},
   "outputs": [],
   "source": [
    "def imgResize(image,scale):\n",
    "    scale_percent = scale # percent of original size\n",
    "    width = int(image.shape[1] * scale_percent / 100)\n",
    "    height = int(image.shape[0] * scale_percent / 100)\n",
    "    dim = (width, height)\n",
    "    resizedImage = cv2.resize(image, dim, interpolation = cv2.INTER_AREA)\n",
    "    return resizedImage"
   ]
  },
  {
   "cell_type": "code",
   "execution_count": null,
   "metadata": {},
   "outputs": [],
   "source": []
  },
  {
   "cell_type": "code",
   "execution_count": 174,
   "metadata": {},
   "outputs": [],
   "source": [
    "capWebcam = cv2.VideoCapture(0)\n",
    "def main():\n",
    "    \n",
    "    \n",
    "    #Step1: Fetch Datam one image\n",
    "    #image=getImageFromPath(1)\n",
    "    \n",
    "    \n",
    "    #OR\n",
    "    \n",
    "    \n",
    "    #Step1: Get image from webcam\n",
    "    image=getImageFromWebCam(1)\n",
    "    capWebcam.release()\n",
    "    \n",
    "    \n",
    "    #Step 2: Show it\n",
    "    cv2.imshow(\"Img\", image)\n",
    "    cv2.waitKey(0)\n",
    "    \n",
    "    \n",
    "    #Step3: resize to maybe later computations eget worse\n",
    "    image=imgResize(image,50)\n",
    "    \n",
    "    \n",
    "    #Step 4: Show it\n",
    "    cv2.imshow(\"Img\", image)\n",
    "    cv2.waitKey(0)\n",
    "    \n",
    "    #Step 5: Plot it\n",
    "    arrayimage=type(image)\n",
    "    plt.scatter(type(image), s= (30 * np.random.rand(50))**2, c=(0,0,255), alpha=0.5)\n",
    "    plt.show()\n",
    "    \n",
    "    \n",
    "    cv2.destroyAllWindows() \n",
    "    return\n"
   ]
  },
  {
   "cell_type": "code",
   "execution_count": 175,
   "metadata": {},
   "outputs": [
    {
     "ename": "TypeError",
     "evalue": "scatter() missing 1 required positional argument: 'y'",
     "output_type": "error",
     "traceback": [
      "\u001b[1;31m---------------------------------------------------------------------------\u001b[0m",
      "\u001b[1;31mTypeError\u001b[0m                                 Traceback (most recent call last)",
      "\u001b[1;32m<ipython-input-175-68fc34c81b28>\u001b[0m in \u001b[0;36m<module>\u001b[1;34m\u001b[0m\n\u001b[0;32m      1\u001b[0m \u001b[1;32mif\u001b[0m \u001b[0m__name__\u001b[0m\u001b[1;33m==\u001b[0m\u001b[1;34m\"__main__\"\u001b[0m\u001b[1;33m:\u001b[0m\u001b[1;33m\u001b[0m\u001b[0m\n\u001b[1;32m----> 2\u001b[1;33m     \u001b[0mmain\u001b[0m\u001b[1;33m(\u001b[0m\u001b[1;33m)\u001b[0m\u001b[1;33m\u001b[0m\u001b[0m\n\u001b[0m",
      "\u001b[1;32m<ipython-input-174-2e94b35b1d6a>\u001b[0m in \u001b[0;36mmain\u001b[1;34m()\u001b[0m\n\u001b[0;32m     30\u001b[0m     \u001b[1;31m#Step 5: Plot it\u001b[0m\u001b[1;33m\u001b[0m\u001b[1;33m\u001b[0m\u001b[0m\n\u001b[0;32m     31\u001b[0m     \u001b[0marrayimage\u001b[0m\u001b[1;33m=\u001b[0m\u001b[0mtype\u001b[0m\u001b[1;33m(\u001b[0m\u001b[0mimage\u001b[0m\u001b[1;33m)\u001b[0m\u001b[1;33m\u001b[0m\u001b[0m\n\u001b[1;32m---> 32\u001b[1;33m     \u001b[0mplt\u001b[0m\u001b[1;33m.\u001b[0m\u001b[0mscatter\u001b[0m\u001b[1;33m(\u001b[0m\u001b[0mtype\u001b[0m\u001b[1;33m(\u001b[0m\u001b[0mimage\u001b[0m\u001b[1;33m)\u001b[0m\u001b[1;33m,\u001b[0m \u001b[0ms\u001b[0m\u001b[1;33m=\u001b[0m \u001b[1;33m(\u001b[0m\u001b[1;36m30\u001b[0m \u001b[1;33m*\u001b[0m \u001b[0mnp\u001b[0m\u001b[1;33m.\u001b[0m\u001b[0mrandom\u001b[0m\u001b[1;33m.\u001b[0m\u001b[0mrand\u001b[0m\u001b[1;33m(\u001b[0m\u001b[1;36m50\u001b[0m\u001b[1;33m)\u001b[0m\u001b[1;33m)\u001b[0m\u001b[1;33m**\u001b[0m\u001b[1;36m2\u001b[0m\u001b[1;33m,\u001b[0m \u001b[0mc\u001b[0m\u001b[1;33m=\u001b[0m\u001b[1;33m(\u001b[0m\u001b[1;36m0\u001b[0m\u001b[1;33m,\u001b[0m\u001b[1;36m0\u001b[0m\u001b[1;33m,\u001b[0m\u001b[1;36m255\u001b[0m\u001b[1;33m)\u001b[0m\u001b[1;33m,\u001b[0m \u001b[0malpha\u001b[0m\u001b[1;33m=\u001b[0m\u001b[1;36m0.5\u001b[0m\u001b[1;33m)\u001b[0m\u001b[1;33m\u001b[0m\u001b[0m\n\u001b[0m\u001b[0;32m     33\u001b[0m     \u001b[0mplt\u001b[0m\u001b[1;33m.\u001b[0m\u001b[0mshow\u001b[0m\u001b[1;33m(\u001b[0m\u001b[1;33m)\u001b[0m\u001b[1;33m\u001b[0m\u001b[0m\n\u001b[0;32m     34\u001b[0m \u001b[1;33m\u001b[0m\u001b[0m\n",
      "\u001b[1;31mTypeError\u001b[0m: scatter() missing 1 required positional argument: 'y'"
     ]
    }
   ],
   "source": [
    "if __name__==\"__main__\":\n",
    "    main()"
   ]
  },
  {
   "cell_type": "code",
   "execution_count": null,
   "metadata": {},
   "outputs": [],
   "source": []
  },
  {
   "cell_type": "code",
   "execution_count": null,
   "metadata": {},
   "outputs": [],
   "source": []
  }
 ],
 "metadata": {
  "kernelspec": {
   "display_name": "Python 3",
   "language": "python",
   "name": "python3"
  },
  "language_info": {
   "codemirror_mode": {
    "name": "ipython",
    "version": 3
   },
   "file_extension": ".py",
   "mimetype": "text/x-python",
   "name": "python",
   "nbconvert_exporter": "python",
   "pygments_lexer": "ipython3",
   "version": "3.5.6"
  }
 },
 "nbformat": 4,
 "nbformat_minor": 2
}
